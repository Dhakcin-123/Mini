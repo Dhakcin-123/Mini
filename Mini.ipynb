{
  "nbformat": 4,
  "nbformat_minor": 0,
  "metadata": {
    "colab": {
      "provenance": [],
      "authorship_tag": "ABX9TyMCLyfRMBILBqVhoue7avDr",
      "include_colab_link": true
    },
    "kernelspec": {
      "name": "python3",
      "display_name": "Python 3"
    },
    "language_info": {
      "name": "python"
    }
  },
  "cells": [
    {
      "cell_type": "markdown",
      "metadata": {
        "id": "view-in-github",
        "colab_type": "text"
      },
      "source": [
        "<a href=\"https://colab.research.google.com/github/Dhakcin-123/Mini/blob/main/Mini.ipynb\" target=\"_parent\"><img src=\"https://colab.research.google.com/assets/colab-badge.svg\" alt=\"Open In Colab\"/></a>"
      ]
    },
    {
      "cell_type": "code",
      "execution_count": 1,
      "metadata": {
        "id": "AW1zkFEKsakD"
      },
      "outputs": [],
      "source": [
        "import time\n",
        "questions = [\n",
        "    {\n",
        "        \"question\":\"What is the capital of Australia\",\n",
        "        \"options\":[\"1. Sydney\",\"2. Canberra\",\"3. Melbourne\",\"4. Perth\"],\n",
        "        \"answer\":2\n",
        "    },\n",
        "    {\n",
        "        \"question\":\"What is the largest Mammal in the world\",\n",
        "        \"options\":[\"1. Elephant\",\"2. Giraffe\",\"3. Blue whale\",\"4. Penguin\"],\n",
        "        \"answer\":3\n",
        "    },\n",
        "    {\n",
        "        \"question\":\"Where is the largest empty builing\",\n",
        "        \"options\":[\"1. Dubai\",\"2. North Korea\",\"3. USA\",\"4. Argentina\"],\n",
        "        \"answer\":2\n",
        "    },\n",
        "    {\n",
        "        \"question\":\"Which gas do plants absorb during photosynthesis\",\n",
        "        \"options\":[\"1. Oxygen\",\"2. Nitrogen\",\"3. Hydrogen\",\"4. Carbon dioxide\"],\n",
        "        \"answer\":4\n",
        "    },\n",
        "    {\n",
        "        \"question\":\"What is the most abundant gas in the atmosphere\",\n",
        "        \"options\":[\"1. Helium\",\"2. Nitrogen\",\"3. Oxygen\",\"4. Carbon dioxide\"],\n",
        "        \"answer\":2\n",
        "    }\n",
        "]"
      ]
    },
    {
      "cell_type": "code",
      "source": [
        "def askquestion(question_data,question_number):\n",
        "  print(\"Question \",{question_number},\": \", {question_data[\"question\"]})\n",
        "  for option in question_data[\"options\"]:\n",
        "    print(option)\n",
        "  start_time = time.time()\n",
        "  try:\n",
        "    user_answer = int(input(\"\\nEnter the option (1 - 4)\"))\n",
        "    if 1<=user_answer<=4:\n",
        "      pass\n",
        "    else:\n",
        "      print(\"Invalid option. Please enter a number between 1 and 4\")\n",
        "      return False\n",
        "  except ValueError:\n",
        "    print(\"Invalid input\")\n",
        "    return False\n",
        "  end_time = time.time()\n",
        "  elapsed_time = end_time-start_time\n",
        "  if elapsed_time>10:\n",
        "    print(f\"Time is up. You took {elapsed_time} seconds\")\n",
        "    return False,True\n",
        "  if user_answer == question_data[\"answer\"]:\n",
        "    return True,False\n",
        "  else:\n",
        "    return False\n",
        "\n",
        "def quiz_game():\n",
        "  print(\"Welcome to the quiz game\")\n",
        "  print(\"You have 10 seconds to answer each question\")\n",
        "  score = 0\n",
        "  total_questions = len(questions)\n",
        "  for i,question_data in enumerate(questions):\n",
        "    correct,timed_out = askquestion(question_data,i+1)\n",
        "    if timed_out:\n",
        "      print(\"Moving to the next question\")\n",
        "      continue\n",
        "    elif correct:\n",
        "      print(\"Answered correctly\")\n",
        "      score = score+1\n",
        "    else:\n",
        "      print(\"Incorrect answer\")\n",
        "  print(f\"\\nQuiz over. Your final score is {score}/{total_questions}\")\n",
        "\n",
        "quiz_game()"
      ],
      "metadata": {
        "colab": {
          "base_uri": "https://localhost:8080/",
          "height": 471
        },
        "id": "6EMQq_pUvGQW",
        "outputId": "ff1c99a5-43a2-43df-9d91-6340e0a21e2f"
      },
      "execution_count": 9,
      "outputs": [
        {
          "output_type": "stream",
          "name": "stdout",
          "text": [
            "Welcome to the quiz game\n",
            "You have 10 seconds to answer each question\n",
            "Question  {1} :  {'What is the capital of Australia'}\n",
            "1. Sydney\n",
            "2. Canberra\n",
            "3. Melbourne\n",
            "4. Perth\n",
            "\n",
            "Enter the option (1 - 4)9\n",
            "Invalid option. Please enter a number between 1 and 4\n"
          ]
        },
        {
          "output_type": "error",
          "ename": "TypeError",
          "evalue": "cannot unpack non-iterable bool object",
          "traceback": [
            "\u001b[0;31m---------------------------------------------------------------------------\u001b[0m",
            "\u001b[0;31mTypeError\u001b[0m                                 Traceback (most recent call last)",
            "\u001b[0;32m<ipython-input-9-63615fa289e2>\u001b[0m in \u001b[0;36m<cell line: 43>\u001b[0;34m()\u001b[0m\n\u001b[1;32m     41\u001b[0m   \u001b[0mprint\u001b[0m\u001b[0;34m(\u001b[0m\u001b[0;34mf\"\\nQuiz over. Your final score is {score}/{total_questions}\"\u001b[0m\u001b[0;34m)\u001b[0m\u001b[0;34m\u001b[0m\u001b[0;34m\u001b[0m\u001b[0m\n\u001b[1;32m     42\u001b[0m \u001b[0;34m\u001b[0m\u001b[0m\n\u001b[0;32m---> 43\u001b[0;31m \u001b[0mquiz_game\u001b[0m\u001b[0;34m(\u001b[0m\u001b[0;34m)\u001b[0m\u001b[0;34m\u001b[0m\u001b[0;34m\u001b[0m\u001b[0m\n\u001b[0m",
            "\u001b[0;32m<ipython-input-9-63615fa289e2>\u001b[0m in \u001b[0;36mquiz_game\u001b[0;34m()\u001b[0m\n\u001b[1;32m     30\u001b[0m   \u001b[0mtotal_questions\u001b[0m \u001b[0;34m=\u001b[0m \u001b[0mlen\u001b[0m\u001b[0;34m(\u001b[0m\u001b[0mquestions\u001b[0m\u001b[0;34m)\u001b[0m\u001b[0;34m\u001b[0m\u001b[0;34m\u001b[0m\u001b[0m\n\u001b[1;32m     31\u001b[0m   \u001b[0;32mfor\u001b[0m \u001b[0mi\u001b[0m\u001b[0;34m,\u001b[0m\u001b[0mquestion_data\u001b[0m \u001b[0;32min\u001b[0m \u001b[0menumerate\u001b[0m\u001b[0;34m(\u001b[0m\u001b[0mquestions\u001b[0m\u001b[0;34m)\u001b[0m\u001b[0;34m:\u001b[0m\u001b[0;34m\u001b[0m\u001b[0;34m\u001b[0m\u001b[0m\n\u001b[0;32m---> 32\u001b[0;31m     \u001b[0mcorrect\u001b[0m\u001b[0;34m,\u001b[0m\u001b[0mtimed_out\u001b[0m \u001b[0;34m=\u001b[0m \u001b[0maskquestion\u001b[0m\u001b[0;34m(\u001b[0m\u001b[0mquestion_data\u001b[0m\u001b[0;34m,\u001b[0m\u001b[0mi\u001b[0m\u001b[0;34m+\u001b[0m\u001b[0;36m1\u001b[0m\u001b[0;34m)\u001b[0m\u001b[0;34m\u001b[0m\u001b[0;34m\u001b[0m\u001b[0m\n\u001b[0m\u001b[1;32m     33\u001b[0m     \u001b[0;32mif\u001b[0m \u001b[0mtimed_out\u001b[0m\u001b[0;34m:\u001b[0m\u001b[0;34m\u001b[0m\u001b[0;34m\u001b[0m\u001b[0m\n\u001b[1;32m     34\u001b[0m       \u001b[0mprint\u001b[0m\u001b[0;34m(\u001b[0m\u001b[0;34m\"Moving to the next question\"\u001b[0m\u001b[0;34m)\u001b[0m\u001b[0;34m\u001b[0m\u001b[0;34m\u001b[0m\u001b[0m\n",
            "\u001b[0;31mTypeError\u001b[0m: cannot unpack non-iterable bool object"
          ]
        }
      ]
    }
  ]
}